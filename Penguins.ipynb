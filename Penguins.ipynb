{
 "cells": [
  {
   "cell_type": "markdown",
   "id": "26b2505c-942f-4d5d-ad46-8d38405cebe6",
   "metadata": {},
   "source": [
    "# Penguins\n",
    "Penguins are cool!\n",
    "\n",
    "## 0. Load Data\n",
    "## 1. EDA\n",
    "## 2. Data Preprocessing\n",
    "## 3. ML\n",
    "## ...\n",
    "## 9. Compare 3 models\n",
    "## 10. Conclusion"
   ]
  },
  {
   "cell_type": "markdown",
   "id": "03c4713a-2af7-401f-b4c4-0e3681bd2dbe",
   "metadata": {},
   "source": [
    "## 0. Load Data here"
   ]
  },
  {
   "cell_type": "markdown",
   "id": "57aea7c7-76a1-4aab-a657-c7e0c138e3eb",
   "metadata": {},
   "source": [
    "## 1. EDA"
   ]
  }
 ],
 "metadata": {
  "kernelspec": {
   "display_name": "Python 3 (ipykernel)",
   "language": "python",
   "name": "python3"
  },
  "language_info": {
   "codemirror_mode": {
    "name": "ipython",
    "version": 3
   },
   "file_extension": ".py",
   "mimetype": "text/x-python",
   "name": "python",
   "nbconvert_exporter": "python",
   "pygments_lexer": "ipython3",
   "version": "3.12.1"
  }
 },
 "nbformat": 4,
 "nbformat_minor": 5
}

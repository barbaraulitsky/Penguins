{
 "cells": [
  {
   "cell_type": "markdown",
   "id": "88c51d27-7c81-4f3e-a0ed-cd1c6f6d6f7f",
   "metadata": {},
   "source": [
    "# Penguins\n",
    "\n",
    "Penguins are cool!"
   ]
  },
  {
   "cell_type": "markdown",
   "id": "f8f27668-af1e-4214-b4fc-7da02b4eb7fd",
   "metadata": {},
   "source": [
    "1. [Import Libraries](#1.-Import-Libraries)\n",
    "2. [Load Data](#2.-Load-Data)\n",
    "3. [EDA](#3.-EDA)\n",
    "4. [Data Preprocessing](#4.-Data-Preprocessing)\n",
    "5. [ML](#5.-ML)\n",
    "   \n",
    "   ...\n",
    "7. [Compare Models](#6.-Compare-Models)\n",
    "8. [Conclusion](#7.-Conclusion)"
   ]
  },
  {
   "cell_type": "markdown",
   "id": "da5860bd-f938-476b-a47f-d1d5909cb250",
   "metadata": {},
   "source": [
    "### 1. Import Libraries\n",
    "[Back to Top](#Penguins) <br>"
   ]
  },
  {
   "cell_type": "code",
   "execution_count": 1,
   "id": "47c21bf6-983d-4a6a-9496-3de351a9da63",
   "metadata": {},
   "outputs": [],
   "source": [
    "# # run this cell only once to install any packages we might not have yet, comment after the first run\n",
    "# ! pip install jupyternotify\n",
    "# %load_ext jupyternotify\n",
    "# ! pip install pandas\n",
    "# ! pip install matplotlib\n",
    "# ! pip install seaborn"
   ]
  },
  {
   "cell_type": "code",
   "execution_count": 2,
   "id": "fc3e749d-91b7-4309-8de2-c8a011f879b2",
   "metadata": {},
   "outputs": [],
   "source": [
    "import numpy as np\n",
    "\n",
    "import pandas as pd\n",
    "pd.options.display.max_rows = 100\n",
    "pd.options.display.max_colwidth = 100\n",
    "pd.options.display.precision = 3\n",
    "\n",
    "import matplotlib.pyplot as plt\n",
    "plt.rcParams['figure.dpi'] = 300\n",
    "plt.rcParams[\"axes.spines.right\"] = False\n",
    "plt.rcParams[\"axes.spines.top\"] = False\n",
    "plt.rcParams[\"figure.figsize\"] = (4.5, 3.5)\n",
    "\n",
    "import seaborn as sns\n",
    "import warnings\n",
    "warnings.filterwarnings('ignore')"
   ]
  },
  {
   "cell_type": "markdown",
   "id": "ed084bf5-17be-4ae2-b016-8c321c49f09e",
   "metadata": {},
   "source": [
    "### 2. Load Data\n",
    "[Back to Top](#Penguins) <br>"
   ]
  },
  {
   "cell_type": "code",
   "execution_count": 3,
   "id": "4f531697-37c3-4941-b492-00bc5b369919",
   "metadata": {},
   "outputs": [],
   "source": [
    "# # run this cell only once to download the data, comment after the first run\n",
    "# ! kaggle datasets list -s 'penguin'\n",
    "# ! kaggle datasets download -d 'samybaladram/palmers-penguin-dataset-extended'\n",
    "# ! unzip 'palmers-penguin-dataset-extended.zip' -d data/\n",
    "# ! rm 'palmers-penguin-dataset-extended.zip'"
   ]
  },
  {
   "cell_type": "markdown",
   "id": "886f7ac7-08fc-41f0-a8ce-cdc1224f04c8",
   "metadata": {},
   "source": [
    "### 3. EDA\n",
    "[Back to Top](#Penguins) <br>"
   ]
  },
  {
   "cell_type": "code",
   "execution_count": 4,
   "id": "645fc767-742a-4936-a02f-14dbd006fe7d",
   "metadata": {},
   "outputs": [
    {
     "data": {
      "text/plain": [
       "['species',\n",
       " 'island',\n",
       " 'bill_length_mm',\n",
       " 'bill_depth_mm',\n",
       " 'flipper_length_mm',\n",
       " 'body_mass_g',\n",
       " 'sex',\n",
       " 'year']"
      ]
     },
     "execution_count": 4,
     "metadata": {},
     "output_type": "execute_result"
    }
   ],
   "source": [
    "data = pd.read_csv('data/palmerpenguins_original.csv')\n",
    "data.head(25)\n",
    "list(data.columns)"
   ]
  },
  {
   "cell_type": "markdown",
   "id": "8e577baa-956e-46a3-abb1-e3baea5e715b",
   "metadata": {},
   "source": [
    "### 4. Data Preprocessing\n",
    "[Back to Top](#Penguins) <br>"
   ]
  },
  {
   "cell_type": "markdown",
   "id": "457f9296-7b87-4e57-aba6-fe9bb45af257",
   "metadata": {},
   "source": [
    "### 5. ML\n",
    "[Back to Top](#Penguins) <br>"
   ]
  },
  {
   "cell_type": "markdown",
   "id": "d8aea120-5b34-428a-9a79-fbf5a56f7a25",
   "metadata": {},
   "source": [
    "### 6. Compare Models\n",
    "[Back to Top](#Penguins) <br>"
   ]
  },
  {
   "cell_type": "markdown",
   "id": "a99d9296-1683-4693-b487-f5016752138c",
   "metadata": {},
   "source": [
    "### 7. Conclusion\n",
    "[Back to Top](#Penguins) <br>"
   ]
  }
 ],
 "metadata": {
  "kernelspec": {
   "display_name": "Python 3 (ipykernel)",
   "language": "python",
   "name": "python3"
  },
  "language_info": {
   "codemirror_mode": {
    "name": "ipython",
    "version": 3
   },
   "file_extension": ".py",
   "mimetype": "text/x-python",
   "name": "python",
   "nbconvert_exporter": "python",
   "pygments_lexer": "ipython3",
   "version": "3.12.1"
  }
 },
 "nbformat": 4,
 "nbformat_minor": 5
}

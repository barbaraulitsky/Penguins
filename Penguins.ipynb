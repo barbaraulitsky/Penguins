{
 "cells": [
  {
   "cell_type": "markdown",
   "id": "88c51d27-7c81-4f3e-a0ed-cd1c6f6d6f7f",
   "metadata": {},
   "source": [
    "# Penguins\n",
    "\n",
    "Penguins are cool!"
   ]
  },
  {
   "cell_type": "markdown",
   "id": "f8f27668-af1e-4214-b4fc-7da02b4eb7fd",
   "metadata": {},
   "source": [
    "### 1. [Import Libraries](#1.-Import-Libraries)\n",
    "### 2. [Load Data](#2.-Load-Data)\n",
    "### 3. [EDA](#EDA)\n",
    "## Data Preprocessing\n",
    "## ML\n",
    "## ...\n",
    "## Compare models\n",
    "## Conclusion"
   ]
  },
  {
   "cell_type": "markdown",
   "id": "da5860bd-f938-476b-a47f-d1d5909cb250",
   "metadata": {},
   "source": [
    "### 1. Import Libraries\n",
    "[Back to Top](#Penguins) <br>\n",
    "\n",
    "! pip install jupyternotify <br>\n",
    "%load_ext jupyternotify <br>\n",
    "! pip install pandas <br>"
   ]
  },
  {
   "cell_type": "code",
   "execution_count": 29,
   "id": "fc3e749d-91b7-4309-8de2-c8a011f879b2",
   "metadata": {},
   "outputs": [],
   "source": [
    "import pandas as pd\n",
    "\n",
    "pd.options.display.max_rows = 100\n",
    "pd.options.display.max_colwidth = 100\n",
    "pd.options.display.precision = 3"
   ]
  },
  {
   "cell_type": "markdown",
   "id": "ed084bf5-17be-4ae2-b016-8c321c49f09e",
   "metadata": {},
   "source": [
    "### 2. Load Data\n",
    "[Back to Top](#Penguins) <br>"
   ]
  }
 ],
 "metadata": {
  "kernelspec": {
   "display_name": "Python 3 (ipykernel)",
   "language": "python",
   "name": "python3"
  },
  "language_info": {
   "codemirror_mode": {
    "name": "ipython",
    "version": 3
   },
   "file_extension": ".py",
   "mimetype": "text/x-python",
   "name": "python",
   "nbconvert_exporter": "python",
   "pygments_lexer": "ipython3",
   "version": "3.12.1"
  }
 },
 "nbformat": 4,
 "nbformat_minor": 5
}
